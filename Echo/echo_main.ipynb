{
 "cells": [
  {
   "cell_type": "code",
   "execution_count": 1,
   "metadata": {},
   "outputs": [],
   "source": [
    "import numpy as np\n",
    "from tqdm.notebook import tqdm\n",
    "   \n",
    "from echo_teleoperation import Echo\n",
    "from ur_rtde import UR3Teleop\n",
    "\n",
    "from cameras import RealSenseCamera, WebCamera\n",
    "from data_utils import DataCollector"
   ]
  },
  {
   "cell_type": "markdown",
   "metadata": {},
   "source": [
    "Usage for dual arm teleoperation"
   ]
  },
  {
   "cell_type": "code",
   "execution_count": 2,
   "metadata": {},
   "outputs": [
    {
     "name": "stdout",
     "output_type": "stream",
     "text": [
      "Device found on port: /dev/ttyACM0\n",
      "Port /dev/ttyACM0 opened successfully\n"
     ]
    }
   ],
   "source": [
    "if __name__ == \"__main__\":\n",
    "    device = Echo()\n",
    "    # If USB 3.0 capture_frequency=30, width=640, height=480\n",
    "    # If USB 3.2 capture_frequency=30, width=1280, height=720\n",
    "    main_camera = RealSenseCamera(capture_frequency=30, width=640, height=480)\n",
    "    wrist_camera = WebCamera(camera_id=0)\n",
    "\n",
    "    # use continuous or binary gripper control\n",
    "    binary_gripper_pose = True\n",
    "    gripper_config = {\n",
    "    \"gripper_opened_pose\": 50,\n",
    "    \"gripper_closed_pose\": 155,\n",
    "    \"gripper_pose_threshold\": 150} # the boundary between open and closed states\n",
    "\n",
    "    data_collector = DataCollector(dataset_dir=\"dataset\", binary_gripper_pose= binary_gripper_pose, gripper_config= gripper_config)"
   ]
  },
  {
   "cell_type": "code",
   "execution_count": 3,
   "metadata": {},
   "outputs": [],
   "source": [
    "left_ip = \"192.168.1.111\"   # IP address for the left arm\n",
    "right_ip = \"192.168.1.110\"  # IP address for the right arm\n",
    "\n",
    "left_base_pose = np.array(\n",
    "    [\n",
    "        0.0002879959065467119,\n",
    "        -1.5719226042376917,\n",
    "        -1.5715907255755823,\n",
    "        3.1422481536865234,\n",
    "        -1.5707929770099085,\n",
    "        512.0812350745701,\n",
    "    ]\n",
    ")\n",
    "\n",
    "right_base_pose = np.array(\n",
    "    [\n",
    "        -0.001450840626851857,\n",
    "        -1.5725587050067347,\n",
    "        1.5713553428649902,\n",
    "        0.0008134841918945312,\n",
    "        1.5712484121322632,\n",
    "        3.142502719560732,\n",
    "    ]\n",
    ")\n",
    "\n",
    "# Create teleoperation instances for both arms\n",
    "# left_arm = UR3Teleop(ip=left_ip, base_pose=left_base_pose, lookahead_time=0.1, gain=200)\n",
    "left_arm = None\n",
    "right_arm = UR3Teleop(ip=right_ip, base_pose=right_base_pose, lookahead_time=0.1, gain=200, binary_gripper_pose=binary_gripper_pose, gripper_config=gripper_config)"
   ]
  },
  {
   "cell_type": "code",
   "execution_count": 4,
   "metadata": {},
   "outputs": [],
   "source": [
    "# Move each arm to its respective base pose\n",
    "# left_arm.move_to_base_pose()\n",
    "right_arm.move_to_base_pose()"
   ]
  },
  {
   "cell_type": "code",
   "execution_count": 5,
   "metadata": {},
   "outputs": [],
   "source": [
    "def provide_teleoperation(\n",
    "    left_arm,\n",
    "    right_arm,\n",
    "    left_base_pose,\n",
    "    right_base_pose,\n",
    "    data_from_echo,\n",
    "    data_collector=None,\n",
    "    main_camera = None,\n",
    "    wrist_camera = None,\n",
    "):\n",
    "    \"\"\"\n",
    "    This function performs teleoperation by processing the received robot pose data\n",
    "    and then sending new target positions to both robot arms. Optionally, if dataset\n",
    "    collection is enabled (start_dataset_collection flag is True), it captures a camera frame\n",
    "    and logs the sample using the data_collector.\n",
    "    \"\"\"\n",
    "    # If no data is received, return None.\n",
    "    if data_from_echo is None:\n",
    "        return None\n",
    "    else:\n",
    "        # Unpack the received data:\n",
    "        # Index 0: Left arm joint angles (in radians).\n",
    "        left_arm_position = data_from_echo[0]\n",
    "        # Index 2: Left gripper position.\n",
    "        left_gripper_position = data_from_echo[2]\n",
    "\n",
    "        # Index 1: Right arm joint angles (in radians).\n",
    "        right_arm_position = data_from_echo[1]\n",
    "        # Index 3: Right gripper position.\n",
    "        right_gripper_position = data_from_echo[3]\n",
    "\n",
    "        # Index 6: Sensitivity mode for teleoperation control.\n",
    "        sensitivity_mode = data_from_echo[6]\n",
    "\n",
    "        # Index 5: Flag or counter to trigger dataset collection.\n",
    "        # start_dataset_collection = data_from_echo[5]\n",
    "        \n",
    "\n",
    "        # Adjust target arm positions based on the sensitivity mode.\n",
    "        if sensitivity_mode == 0:\n",
    "            # Default sensitivity: use the raw positions.\n",
    "            left_arm_new_position = left_base_pose + left_arm_position\n",
    "            right_arm_new_position = right_base_pose + right_arm_position\n",
    "        elif sensitivity_mode == 1:\n",
    "            # Medium sensitivity: scale down the movements slightly.\n",
    "            left_arm_new_position = left_base_pose + left_arm_position / 1.25\n",
    "            right_arm_new_position = right_base_pose + right_arm_position / 1.25\n",
    "        else:\n",
    "            # High sensitivity: further reduce the movements.\n",
    "            left_arm_new_position = left_base_pose + left_arm_position / 1.75\n",
    "            right_arm_new_position = right_base_pose + right_arm_position / 1.75\n",
    "\n",
    "        # Command the left arm to move to the new pose with the updated gripper position.\n",
    "        if left_arm is not None:\n",
    "            left_arm.move_to_pose(\n",
    "                joints_positions=left_arm_new_position,\n",
    "                gripper_position=left_gripper_position,\n",
    "            )\n",
    "\n",
    "        # Command the right arm to move to the new pose with the updated gripper position.\n",
    "        if right_arm is not None:\n",
    "            right_arm.move_to_pose(\n",
    "                joints_positions=right_arm_new_position,\n",
    "                gripper_position=right_gripper_position,\n",
    "            )\n",
    "\n",
    "        # If dataset collection is enabled, add a new sample to the dataset.\n",
    "        if data_collector is not None:\n",
    "            force = np.array([data_from_echo[4][0]])\n",
    "            data_collector.add_sample(\n",
    "                left_arm,\n",
    "                right_arm,\n",
    "                left_arm_new_position,\n",
    "                right_arm_new_position,\n",
    "                left_gripper_position,\n",
    "                right_gripper_position,\n",
    "                main_camera,\n",
    "                force,\n",
    "                wrist_camera,\n",
    "            )"
   ]
  },
  {
   "cell_type": "code",
   "execution_count": 6,
   "metadata": {},
   "outputs": [
    {
     "data": {
      "application/vnd.jupyter.widget-view+json": {
       "model_id": "7e59ab87e1f74a10b2af7a2d8629b459",
       "version_major": 2,
       "version_minor": 0
      },
      "text/plain": [
       "  0%|          | 0/100000 [00:00<?, ?it/s]"
      ]
     },
     "metadata": {},
     "output_type": "display_data"
    },
    {
     "name": "stdout",
     "output_type": "stream",
     "text": [
      "Error reading sensor data: Received incomplete data: 0 bytes, expected 42 bytes\n",
      "Error reading sensor data: Received incomplete data: 0 bytes, expected 42 bytes\n",
      "Error reading sensor data: Received incomplete data: 0 bytes, expected 42 bytes\n",
      "Error reading sensor data: Received incomplete data: 0 bytes, expected 42 bytes\n",
      "Error reading sensor data: Received incomplete data: 0 bytes, expected 42 bytes\n",
      "Error reading sensor data: Received incomplete data: 0 bytes, expected 42 bytes\n",
      "Error reading sensor data: Received incomplete data: 0 bytes, expected 42 bytes\n",
      "Error reading sensor data: Received incomplete data: 0 bytes, expected 42 bytes\n",
      "Error reading sensor data: Received incomplete data: 0 bytes, expected 42 bytes\n",
      "Error reading sensor data: Received incomplete data: 0 bytes, expected 42 bytes\n",
      "Error reading sensor data: Received incomplete data: 0 bytes, expected 42 bytes\n",
      "Error reading sensor data: Received incomplete data: 0 bytes, expected 42 bytes\n",
      "Error reading sensor data: Received incomplete data: 0 bytes, expected 42 bytes\n"
     ]
    },
    {
     "data": {
      "application/vnd.jupyter.widget-view+json": {
       "model_id": "9f4f4eb2b03d44e7a7fef416c7facaab",
       "version_major": 2,
       "version_minor": 0
      },
      "text/plain": [
       "  0%|          | 0/20000 [00:00<?, ?it/s]"
      ]
     },
     "metadata": {},
     "output_type": "display_data"
    },
    {
     "name": "stdout",
     "output_type": "stream",
     "text": [
      "Error reading sensor data: Received incomplete data: 0 bytes, expected 42 bytes\n",
      "Error reading sensor data: Received incomplete data: 0 bytes, expected 42 bytes\n"
     ]
    },
    {
     "data": {
      "application/vnd.jupyter.widget-view+json": {
       "model_id": "6b411ba98e534e9790e7c55a9ef44b80",
       "version_major": 2,
       "version_minor": 0
      },
      "text/plain": [
       "  0%|          | 0/20000 [00:00<?, ?it/s]"
      ]
     },
     "metadata": {},
     "output_type": "display_data"
    },
    {
     "name": "stdout",
     "output_type": "stream",
     "text": [
      "Error reading sensor data: Received incomplete data: 0 bytes, expected 42 bytes\n",
      "Error reading sensor data: Received incomplete data: 0 bytes, expected 42 bytes\n"
     ]
    },
    {
     "data": {
      "application/vnd.jupyter.widget-view+json": {
       "model_id": "18eb1ede8ada4a398485172f6ad130fc",
       "version_major": 2,
       "version_minor": 0
      },
      "text/plain": [
       "  0%|          | 0/20000 [00:00<?, ?it/s]"
      ]
     },
     "metadata": {},
     "output_type": "display_data"
    },
    {
     "name": "stdout",
     "output_type": "stream",
     "text": [
      "Error reading sensor data: Received incomplete data: 0 bytes, expected 42 bytes\n",
      "Error reading sensor data: Received incomplete data: 0 bytes, expected 42 bytes\n",
      "Error reading sensor data: Received incomplete data: 0 bytes, expected 42 bytes\n",
      "Error reading sensor data: Received incomplete data: 0 bytes, expected 42 bytes\n",
      "Error reading sensor data: Received incomplete data: 0 bytes, expected 42 bytes\n",
      "Error reading sensor data: Received incomplete data: 0 bytes, expected 42 bytes\n"
     ]
    },
    {
     "data": {
      "application/vnd.jupyter.widget-view+json": {
       "model_id": "f7ba192f23f3495a9f3751ade64ec179",
       "version_major": 2,
       "version_minor": 0
      },
      "text/plain": [
       "  0%|          | 0/20000 [00:00<?, ?it/s]"
      ]
     },
     "metadata": {},
     "output_type": "display_data"
    },
    {
     "name": "stdout",
     "output_type": "stream",
     "text": [
      "Error reading sensor data: Received incomplete data: 0 bytes, expected 42 bytes\n",
      "Error reading sensor data: Received incomplete data: 0 bytes, expected 42 bytes\n",
      "Error reading sensor data: Received incomplete data: 0 bytes, expected 42 bytes\n",
      "Error reading sensor data: Received incomplete data: 0 bytes, expected 42 bytes\n",
      "Error reading sensor data: Received incomplete data: 0 bytes, expected 42 bytes\n"
     ]
    },
    {
     "data": {
      "application/vnd.jupyter.widget-view+json": {
       "model_id": "968eb0d90f844156b9440be2591cdd1e",
       "version_major": 2,
       "version_minor": 0
      },
      "text/plain": [
       "  0%|          | 0/20000 [00:00<?, ?it/s]"
      ]
     },
     "metadata": {},
     "output_type": "display_data"
    },
    {
     "name": "stdout",
     "output_type": "stream",
     "text": [
      "Error reading sensor data: Received incomplete data: 0 bytes, expected 42 bytes\n",
      "Error reading sensor data: Received incomplete data: 0 bytes, expected 42 bytes\n",
      "Error reading sensor data: Received incomplete data: 0 bytes, expected 42 bytes\n"
     ]
    },
    {
     "data": {
      "application/vnd.jupyter.widget-view+json": {
       "model_id": "4d8e63494b844d1096d84998b1202f8a",
       "version_major": 2,
       "version_minor": 0
      },
      "text/plain": [
       "  0%|          | 0/20000 [00:00<?, ?it/s]"
      ]
     },
     "metadata": {},
     "output_type": "display_data"
    },
    {
     "name": "stdout",
     "output_type": "stream",
     "text": [
      "Error reading sensor data: Received incomplete data: 0 bytes, expected 42 bytes\n",
      "Error reading sensor data: Received incomplete data: 0 bytes, expected 42 bytes\n",
      "Error reading sensor data: Received incomplete data: 0 bytes, expected 42 bytes\n",
      "Error reading sensor data: Received incomplete data: 0 bytes, expected 42 bytes\n"
     ]
    },
    {
     "data": {
      "application/vnd.jupyter.widget-view+json": {
       "model_id": "00deabe61be44007b35e1324e0c0074a",
       "version_major": 2,
       "version_minor": 0
      },
      "text/plain": [
       "  0%|          | 0/20000 [00:00<?, ?it/s]"
      ]
     },
     "metadata": {},
     "output_type": "display_data"
    },
    {
     "name": "stdout",
     "output_type": "stream",
     "text": [
      "Error reading sensor data: Received incomplete data: 0 bytes, expected 42 bytes\n",
      "Error reading sensor data: Received incomplete data: 0 bytes, expected 42 bytes\n",
      "Error reading sensor data: Received incomplete data: 0 bytes, expected 42 bytes\n",
      "Error reading sensor data: Received incomplete data: 0 bytes, expected 42 bytes\n",
      "Error reading sensor data: Received incomplete data: 0 bytes, expected 42 bytes\n",
      "Error reading sensor data: Received incomplete data: 0 bytes, expected 42 bytes\n",
      "Error reading sensor data: Received incomplete data: 0 bytes, expected 42 bytes\n"
     ]
    },
    {
     "data": {
      "application/vnd.jupyter.widget-view+json": {
       "model_id": "fb983fe1788c4786a464ade4b00397b5",
       "version_major": 2,
       "version_minor": 0
      },
      "text/plain": [
       "  0%|          | 0/20000 [00:00<?, ?it/s]"
      ]
     },
     "metadata": {},
     "output_type": "display_data"
    },
    {
     "name": "stdout",
     "output_type": "stream",
     "text": [
      "Error reading sensor data: Received incomplete data: 0 bytes, expected 42 bytes\n"
     ]
    },
    {
     "data": {
      "application/vnd.jupyter.widget-view+json": {
       "model_id": "3612594bf92949128d92e47be5e68ab7",
       "version_major": 2,
       "version_minor": 0
      },
      "text/plain": [
       "  0%|          | 0/20000 [00:00<?, ?it/s]"
      ]
     },
     "metadata": {},
     "output_type": "display_data"
    },
    {
     "name": "stdout",
     "output_type": "stream",
     "text": [
      "Error reading sensor data: Received incomplete data: 0 bytes, expected 42 bytes\n",
      "Error reading sensor data: Received incomplete data: 0 bytes, expected 42 bytes\n",
      "Error reading sensor data: Received incomplete data: 0 bytes, expected 42 bytes\n",
      "Error reading sensor data: Received incomplete data: 0 bytes, expected 42 bytes\n",
      "Error reading sensor data: Received incomplete data: 0 bytes, expected 42 bytes\n"
     ]
    },
    {
     "data": {
      "application/vnd.jupyter.widget-view+json": {
       "model_id": "29710309e57943379ffd6a1b4b218bbd",
       "version_major": 2,
       "version_minor": 0
      },
      "text/plain": [
       "  0%|          | 0/20000 [00:00<?, ?it/s]"
      ]
     },
     "metadata": {},
     "output_type": "display_data"
    },
    {
     "name": "stdout",
     "output_type": "stream",
     "text": [
      "Error reading sensor data: Received incomplete data: 0 bytes, expected 42 bytes\n",
      "Error reading sensor data: Received incomplete data: 0 bytes, expected 42 bytes\n"
     ]
    },
    {
     "data": {
      "application/vnd.jupyter.widget-view+json": {
       "model_id": "e908a724f8fc4492a4aacb44b8f71497",
       "version_major": 2,
       "version_minor": 0
      },
      "text/plain": [
       "  0%|          | 0/20000 [00:00<?, ?it/s]"
      ]
     },
     "metadata": {},
     "output_type": "display_data"
    },
    {
     "name": "stdout",
     "output_type": "stream",
     "text": [
      "Error reading sensor data: Received incomplete data: 0 bytes, expected 42 bytes\n",
      "Error reading sensor data: Received incomplete data: 0 bytes, expected 42 bytes\n"
     ]
    },
    {
     "data": {
      "application/vnd.jupyter.widget-view+json": {
       "model_id": "49f0e6a2ff7840eca33d5437e7b1656f",
       "version_major": 2,
       "version_minor": 0
      },
      "text/plain": [
       "  0%|          | 0/20000 [00:00<?, ?it/s]"
      ]
     },
     "metadata": {},
     "output_type": "display_data"
    },
    {
     "name": "stdout",
     "output_type": "stream",
     "text": [
      "Error reading sensor data: Received incomplete data: 0 bytes, expected 42 bytes\n",
      "Error reading sensor data: Received incomplete data: 0 bytes, expected 42 bytes\n",
      "Error reading sensor data: Received incomplete data: 0 bytes, expected 42 bytes\n"
     ]
    },
    {
     "data": {
      "application/vnd.jupyter.widget-view+json": {
       "model_id": "407cffa975bd416694d0ab6317505ded",
       "version_major": 2,
       "version_minor": 0
      },
      "text/plain": [
       "  0%|          | 0/20000 [00:00<?, ?it/s]"
      ]
     },
     "metadata": {},
     "output_type": "display_data"
    },
    {
     "name": "stdout",
     "output_type": "stream",
     "text": [
      "Error reading sensor data: Received incomplete data: 0 bytes, expected 42 bytes\n",
      "Error reading sensor data: Received incomplete data: 0 bytes, expected 42 bytes\n",
      "Error reading sensor data: Received incomplete data: 0 bytes, expected 42 bytes\n"
     ]
    },
    {
     "data": {
      "application/vnd.jupyter.widget-view+json": {
       "model_id": "177856a99e0845879e49a59254c7f99a",
       "version_major": 2,
       "version_minor": 0
      },
      "text/plain": [
       "  0%|          | 0/20000 [00:00<?, ?it/s]"
      ]
     },
     "metadata": {},
     "output_type": "display_data"
    },
    {
     "name": "stdout",
     "output_type": "stream",
     "text": [
      "Error reading sensor data: Received incomplete data: 0 bytes, expected 42 bytes\n",
      "Error reading sensor data: Received incomplete data: 0 bytes, expected 42 bytes\n"
     ]
    },
    {
     "data": {
      "application/vnd.jupyter.widget-view+json": {
       "model_id": "8aebd1efeeae43b28da38246d4402429",
       "version_major": 2,
       "version_minor": 0
      },
      "text/plain": [
       "  0%|          | 0/20000 [00:00<?, ?it/s]"
      ]
     },
     "metadata": {},
     "output_type": "display_data"
    },
    {
     "name": "stdout",
     "output_type": "stream",
     "text": [
      "Error reading sensor data: Received incomplete data: 0 bytes, expected 42 bytes\n",
      "Error reading sensor data: Received incomplete data: 0 bytes, expected 42 bytes\n",
      "Error reading sensor data: Received incomplete data: 0 bytes, expected 42 bytes\n"
     ]
    },
    {
     "data": {
      "application/vnd.jupyter.widget-view+json": {
       "model_id": "e5e28254934f44e4859b15f0a49ef78e",
       "version_major": 2,
       "version_minor": 0
      },
      "text/plain": [
       "  0%|          | 0/20000 [00:00<?, ?it/s]"
      ]
     },
     "metadata": {},
     "output_type": "display_data"
    },
    {
     "name": "stdout",
     "output_type": "stream",
     "text": [
      "Error reading sensor data: Received incomplete data: 0 bytes, expected 42 bytes\n",
      "Error reading sensor data: Received incomplete data: 0 bytes, expected 42 bytes\n",
      "Error reading sensor data: Received incomplete data: 0 bytes, expected 42 bytes\n",
      "Error reading sensor data: Received incomplete data: 0 bytes, expected 42 bytes\n",
      "Error reading sensor data: Received incomplete data: 0 bytes, expected 42 bytes\n"
     ]
    },
    {
     "data": {
      "application/vnd.jupyter.widget-view+json": {
       "model_id": "9a3edeafb46044d6a36262c2a8117dc0",
       "version_major": 2,
       "version_minor": 0
      },
      "text/plain": [
       "  0%|          | 0/20000 [00:00<?, ?it/s]"
      ]
     },
     "metadata": {},
     "output_type": "display_data"
    },
    {
     "data": {
      "application/vnd.jupyter.widget-view+json": {
       "model_id": "6eb526615cf74951aed2f652136d15f0",
       "version_major": 2,
       "version_minor": 0
      },
      "text/plain": [
       "  0%|          | 0/20000 [00:00<?, ?it/s]"
      ]
     },
     "metadata": {},
     "output_type": "display_data"
    },
    {
     "name": "stdout",
     "output_type": "stream",
     "text": [
      "Error reading sensor data: Received incomplete data: 0 bytes, expected 42 bytes\n",
      "Error reading sensor data: Received incomplete data: 0 bytes, expected 42 bytes\n",
      "Error reading sensor data: Received incomplete data: 0 bytes, expected 42 bytes\n"
     ]
    },
    {
     "data": {
      "application/vnd.jupyter.widget-view+json": {
       "model_id": "c503eff7455a491ea3b3a1981c05bcbe",
       "version_major": 2,
       "version_minor": 0
      },
      "text/plain": [
       "  0%|          | 0/20000 [00:00<?, ?it/s]"
      ]
     },
     "metadata": {},
     "output_type": "display_data"
    },
    {
     "name": "stdout",
     "output_type": "stream",
     "text": [
      "Error reading sensor data: Received incomplete data: 0 bytes, expected 42 bytes\n",
      "Error reading sensor data: Received incomplete data: 0 bytes, expected 42 bytes\n",
      "Error reading sensor data: Received incomplete data: 0 bytes, expected 42 bytes\n",
      "Error reading sensor data: Received incomplete data: 0 bytes, expected 42 bytes\n",
      "Error reading sensor data: Received incomplete data: 0 bytes, expected 42 bytes\n"
     ]
    },
    {
     "data": {
      "application/vnd.jupyter.widget-view+json": {
       "model_id": "b75e76e4045f4dbc9b40922e2b2b409c",
       "version_major": 2,
       "version_minor": 0
      },
      "text/plain": [
       "  0%|          | 0/20000 [00:00<?, ?it/s]"
      ]
     },
     "metadata": {},
     "output_type": "display_data"
    },
    {
     "name": "stdout",
     "output_type": "stream",
     "text": [
      "Error reading sensor data: Received incomplete data: 0 bytes, expected 42 bytes\n"
     ]
    },
    {
     "data": {
      "application/vnd.jupyter.widget-view+json": {
       "model_id": "7f6f75a0effd44dbbe364dc334cc0da4",
       "version_major": 2,
       "version_minor": 0
      },
      "text/plain": [
       "  0%|          | 0/20000 [00:00<?, ?it/s]"
      ]
     },
     "metadata": {},
     "output_type": "display_data"
    },
    {
     "name": "stdout",
     "output_type": "stream",
     "text": [
      "Error reading sensor data: Received incomplete data: 0 bytes, expected 42 bytes\n",
      "Error reading sensor data: Received incomplete data: 0 bytes, expected 42 bytes\n",
      "Error reading sensor data: Received incomplete data: 0 bytes, expected 42 bytes\n"
     ]
    },
    {
     "data": {
      "application/vnd.jupyter.widget-view+json": {
       "model_id": "4f7902359b744d8c8f9080a6509bee64",
       "version_major": 2,
       "version_minor": 0
      },
      "text/plain": [
       "  0%|          | 0/20000 [00:00<?, ?it/s]"
      ]
     },
     "metadata": {},
     "output_type": "display_data"
    },
    {
     "name": "stdout",
     "output_type": "stream",
     "text": [
      "Error reading sensor data: Received incomplete data: 0 bytes, expected 42 bytes\n",
      "Error reading sensor data: Received incomplete data: 0 bytes, expected 42 bytes\n",
      "Error reading sensor data: Received incomplete data: 0 bytes, expected 42 bytes\n",
      "Error reading sensor data: Received incomplete data: 0 bytes, expected 42 bytes\n",
      "Error reading sensor data: Received incomplete data: 0 bytes, expected 42 bytes\n"
     ]
    },
    {
     "data": {
      "application/vnd.jupyter.widget-view+json": {
       "model_id": "9aac503874ff41768f7c644e519b939a",
       "version_major": 2,
       "version_minor": 0
      },
      "text/plain": [
       "  0%|          | 0/20000 [00:00<?, ?it/s]"
      ]
     },
     "metadata": {},
     "output_type": "display_data"
    },
    {
     "name": "stdout",
     "output_type": "stream",
     "text": [
      "Error reading sensor data: Received incomplete data: 0 bytes, expected 42 bytes\n"
     ]
    },
    {
     "data": {
      "application/vnd.jupyter.widget-view+json": {
       "model_id": "296867b8d5fd46379e3d498ba8657605",
       "version_major": 2,
       "version_minor": 0
      },
      "text/plain": [
       "  0%|          | 0/20000 [00:00<?, ?it/s]"
      ]
     },
     "metadata": {},
     "output_type": "display_data"
    },
    {
     "name": "stdout",
     "output_type": "stream",
     "text": [
      "Error reading sensor data: Received incomplete data: 0 bytes, expected 42 bytes\n",
      "Error reading sensor data: Received incomplete data: 0 bytes, expected 42 bytes\n",
      "Error reading sensor data: Received incomplete data: 0 bytes, expected 42 bytes\n"
     ]
    },
    {
     "data": {
      "application/vnd.jupyter.widget-view+json": {
       "model_id": "82cc8e09a988490394d96acd1433ebdb",
       "version_major": 2,
       "version_minor": 0
      },
      "text/plain": [
       "  0%|          | 0/20000 [00:00<?, ?it/s]"
      ]
     },
     "metadata": {},
     "output_type": "display_data"
    },
    {
     "name": "stdout",
     "output_type": "stream",
     "text": [
      "Error reading sensor data: Received incomplete data: 0 bytes, expected 42 bytes\n",
      "Error reading sensor data: Received incomplete data: 0 bytes, expected 42 bytes\n"
     ]
    },
    {
     "data": {
      "application/vnd.jupyter.widget-view+json": {
       "model_id": "ce7bbde3375847409bd88f85448d8b4b",
       "version_major": 2,
       "version_minor": 0
      },
      "text/plain": [
       "  0%|          | 0/20000 [00:00<?, ?it/s]"
      ]
     },
     "metadata": {},
     "output_type": "display_data"
    },
    {
     "name": "stdout",
     "output_type": "stream",
     "text": [
      "Error reading sensor data: Received incomplete data: 0 bytes, expected 42 bytes\n",
      "Error reading sensor data: Received incomplete data: 0 bytes, expected 42 bytes\n"
     ]
    },
    {
     "data": {
      "application/vnd.jupyter.widget-view+json": {
       "model_id": "6275919df2ed4f098567cb09fe93af02",
       "version_major": 2,
       "version_minor": 0
      },
      "text/plain": [
       "  0%|          | 0/20000 [00:00<?, ?it/s]"
      ]
     },
     "metadata": {},
     "output_type": "display_data"
    },
    {
     "data": {
      "application/vnd.jupyter.widget-view+json": {
       "model_id": "ab1a6febdcd5466fa40cd32f9dd5d1a8",
       "version_major": 2,
       "version_minor": 0
      },
      "text/plain": [
       "  0%|          | 0/20000 [00:00<?, ?it/s]"
      ]
     },
     "metadata": {},
     "output_type": "display_data"
    },
    {
     "name": "stdout",
     "output_type": "stream",
     "text": [
      "Error reading sensor data: Received incomplete data: 0 bytes, expected 42 bytes\n"
     ]
    },
    {
     "data": {
      "application/vnd.jupyter.widget-view+json": {
       "model_id": "3ca49b4cb7894faf80a1dd81997afb3c",
       "version_major": 2,
       "version_minor": 0
      },
      "text/plain": [
       "  0%|          | 0/20000 [00:00<?, ?it/s]"
      ]
     },
     "metadata": {},
     "output_type": "display_data"
    },
    {
     "data": {
      "application/vnd.jupyter.widget-view+json": {
       "model_id": "ad7ce6f874934bd0965088bb3b8048d9",
       "version_major": 2,
       "version_minor": 0
      },
      "text/plain": [
       "  0%|          | 0/20000 [00:00<?, ?it/s]"
      ]
     },
     "metadata": {},
     "output_type": "display_data"
    },
    {
     "name": "stdout",
     "output_type": "stream",
     "text": [
      "Error reading sensor data: Received incomplete data: 0 bytes, expected 42 bytes\n",
      "Error reading sensor data: Received incomplete data: 0 bytes, expected 42 bytes\n",
      "Error reading sensor data: Received incomplete data: 0 bytes, expected 42 bytes\n",
      "Error reading sensor data: Received incomplete data: 0 bytes, expected 42 bytes\n"
     ]
    },
    {
     "data": {
      "application/vnd.jupyter.widget-view+json": {
       "model_id": "686bf75bd2b342c5b0d7b6ece51459cb",
       "version_major": 2,
       "version_minor": 0
      },
      "text/plain": [
       "  0%|          | 0/20000 [00:00<?, ?it/s]"
      ]
     },
     "metadata": {},
     "output_type": "display_data"
    },
    {
     "name": "stdout",
     "output_type": "stream",
     "text": [
      "Error reading sensor data: Received incomplete data: 0 bytes, expected 42 bytes\n",
      "Error reading sensor data: Received incomplete data: 0 bytes, expected 42 bytes\n",
      "Error reading sensor data: Received incomplete data: 0 bytes, expected 42 bytes\n"
     ]
    },
    {
     "data": {
      "application/vnd.jupyter.widget-view+json": {
       "model_id": "5032ad7832b7446cb3c98b2de1c4c4ac",
       "version_major": 2,
       "version_minor": 0
      },
      "text/plain": [
       "  0%|          | 0/20000 [00:00<?, ?it/s]"
      ]
     },
     "metadata": {},
     "output_type": "display_data"
    },
    {
     "name": "stdout",
     "output_type": "stream",
     "text": [
      "Error reading sensor data: Received incomplete data: 0 bytes, expected 42 bytes\n",
      "Error reading sensor data: Received incomplete data: 0 bytes, expected 42 bytes\n",
      "Error reading sensor data: Received incomplete data: 0 bytes, expected 42 bytes\n",
      "Error reading sensor data: Received incomplete data: 0 bytes, expected 42 bytes\n",
      "Error reading sensor data: Received incomplete data: 0 bytes, expected 42 bytes\n",
      "Error reading sensor data: Received incomplete data: 0 bytes, expected 42 bytes\n",
      "Error reading sensor data: Received incomplete data: 0 bytes, expected 42 bytes\n",
      "Error reading sensor data: Received incomplete data: 0 bytes, expected 42 bytes\n",
      "Error reading sensor data: Received incomplete data: 0 bytes, expected 42 bytes\n",
      "Error reading sensor data: Received incomplete data: 0 bytes, expected 42 bytes\n",
      "Error reading sensor data: Received incomplete data: 0 bytes, expected 42 bytes\n",
      "Error reading sensor data: Received incomplete data: 0 bytes, expected 42 bytes\n",
      "Error reading sensor data: Received incomplete data: 0 bytes, expected 42 bytes\n",
      "Error reading sensor data: Received incomplete data: 0 bytes, expected 42 bytes\n",
      "Error reading sensor data: Received incomplete data: 0 bytes, expected 42 bytes\n",
      "Error reading sensor data: Received incomplete data: 0 bytes, expected 42 bytes\n",
      "Error reading sensor data: Received incomplete data: 0 bytes, expected 42 bytes\n",
      "Error reading sensor data: Received incomplete data: 0 bytes, expected 42 bytes\n",
      "Error reading sensor data: Received incomplete data: 0 bytes, expected 42 bytes\n",
      "Error reading sensor data: Received incomplete data: 0 bytes, expected 42 bytes\n",
      "Error reading sensor data: Received incomplete data: 0 bytes, expected 42 bytes\n",
      "Error reading sensor data: Received incomplete data: 0 bytes, expected 42 bytes\n",
      "Error reading sensor data: Received incomplete data: 0 bytes, expected 42 bytes\n",
      "Error reading sensor data: Received incomplete data: 0 bytes, expected 42 bytes\n",
      "Error reading sensor data: Received incomplete data: 0 bytes, expected 42 bytes\n",
      "Error reading sensor data: Received incomplete data: 0 bytes, expected 42 bytes\n"
     ]
    },
    {
     "data": {
      "application/vnd.jupyter.widget-view+json": {
       "model_id": "f66bb005225a4885b65bcef02af67831",
       "version_major": 2,
       "version_minor": 0
      },
      "text/plain": [
       "  0%|          | 0/20000 [00:00<?, ?it/s]"
      ]
     },
     "metadata": {},
     "output_type": "display_data"
    },
    {
     "name": "stdout",
     "output_type": "stream",
     "text": [
      "Error reading sensor data: Received incomplete data: 0 bytes, expected 42 bytes\n",
      "Error reading sensor data: Received incomplete data: 0 bytes, expected 42 bytes\n"
     ]
    },
    {
     "data": {
      "application/vnd.jupyter.widget-view+json": {
       "model_id": "cd4ade4a21af49e8bc6e84aef880faaf",
       "version_major": 2,
       "version_minor": 0
      },
      "text/plain": [
       "  0%|          | 0/20000 [00:00<?, ?it/s]"
      ]
     },
     "metadata": {},
     "output_type": "display_data"
    },
    {
     "name": "stdout",
     "output_type": "stream",
     "text": [
      "Error reading sensor data: Received incomplete data: 0 bytes, expected 42 bytes\n",
      "Error reading sensor data: Received incomplete data: 0 bytes, expected 42 bytes\n",
      "Error reading sensor data: Received incomplete data: 0 bytes, expected 42 bytes\n"
     ]
    },
    {
     "data": {
      "application/vnd.jupyter.widget-view+json": {
       "model_id": "2ad624042a544af78438303c6a2f9985",
       "version_major": 2,
       "version_minor": 0
      },
      "text/plain": [
       "  0%|          | 0/20000 [00:00<?, ?it/s]"
      ]
     },
     "metadata": {},
     "output_type": "display_data"
    },
    {
     "name": "stdout",
     "output_type": "stream",
     "text": [
      "Error reading sensor data: Received incomplete data: 0 bytes, expected 42 bytes\n",
      "Error reading sensor data: Received incomplete data: 0 bytes, expected 42 bytes\n"
     ]
    },
    {
     "data": {
      "application/vnd.jupyter.widget-view+json": {
       "model_id": "b6807304b30b4c0c99e3f2473634a33e",
       "version_major": 2,
       "version_minor": 0
      },
      "text/plain": [
       "  0%|          | 0/20000 [00:00<?, ?it/s]"
      ]
     },
     "metadata": {},
     "output_type": "display_data"
    },
    {
     "name": "stdout",
     "output_type": "stream",
     "text": [
      "Error reading sensor data: Received incomplete data: 0 bytes, expected 42 bytes\n",
      "Error reading sensor data: Received incomplete data: 0 bytes, expected 42 bytes\n",
      "Error reading sensor data: Received incomplete data: 0 bytes, expected 42 bytes\n"
     ]
    },
    {
     "data": {
      "application/vnd.jupyter.widget-view+json": {
       "model_id": "00fa2f80d60946f7b1696003c045c131",
       "version_major": 2,
       "version_minor": 0
      },
      "text/plain": [
       "  0%|          | 0/20000 [00:00<?, ?it/s]"
      ]
     },
     "metadata": {},
     "output_type": "display_data"
    },
    {
     "name": "stdout",
     "output_type": "stream",
     "text": [
      "Error reading sensor data: Received incomplete data: 0 bytes, expected 42 bytes\n",
      "Error reading sensor data: Received incomplete data: 0 bytes, expected 42 bytes\n",
      "Error reading sensor data: Received incomplete data: 0 bytes, expected 42 bytes\n",
      "Error reading sensor data: Received incomplete data: 0 bytes, expected 42 bytes\n",
      "Error reading sensor data: Received incomplete data: 0 bytes, expected 42 bytes\n",
      "Error reading sensor data: Received incomplete data: 0 bytes, expected 42 bytes\n"
     ]
    },
    {
     "data": {
      "application/vnd.jupyter.widget-view+json": {
       "model_id": "07a425d6b4084259b99785563ae717b7",
       "version_major": 2,
       "version_minor": 0
      },
      "text/plain": [
       "  0%|          | 0/20000 [00:00<?, ?it/s]"
      ]
     },
     "metadata": {},
     "output_type": "display_data"
    },
    {
     "name": "stdout",
     "output_type": "stream",
     "text": [
      "Error reading sensor data: Received incomplete data: 0 bytes, expected 42 bytes\n",
      "Error reading sensor data: Received incomplete data: 0 bytes, expected 42 bytes\n"
     ]
    },
    {
     "data": {
      "application/vnd.jupyter.widget-view+json": {
       "model_id": "b813d68670d744eabf001bdff55fa02d",
       "version_major": 2,
       "version_minor": 0
      },
      "text/plain": [
       "  0%|          | 0/20000 [00:00<?, ?it/s]"
      ]
     },
     "metadata": {},
     "output_type": "display_data"
    },
    {
     "name": "stdout",
     "output_type": "stream",
     "text": [
      "Error reading sensor data: Received incomplete data: 0 bytes, expected 42 bytes\n",
      "Error reading sensor data: Received incomplete data: 0 bytes, expected 42 bytes\n",
      "Error reading sensor data: Received incomplete data: 0 bytes, expected 42 bytes\n"
     ]
    },
    {
     "data": {
      "application/vnd.jupyter.widget-view+json": {
       "model_id": "a3bba337257a4cabb5caedcb28bf5f01",
       "version_major": 2,
       "version_minor": 0
      },
      "text/plain": [
       "  0%|          | 0/20000 [00:00<?, ?it/s]"
      ]
     },
     "metadata": {},
     "output_type": "display_data"
    },
    {
     "name": "stdout",
     "output_type": "stream",
     "text": [
      "Error reading sensor data: Received incomplete data: 0 bytes, expected 42 bytes\n",
      "Error reading sensor data: Received incomplete data: 0 bytes, expected 42 bytes\n",
      "Error reading sensor data: Received incomplete data: 0 bytes, expected 42 bytes\n",
      "Error reading sensor data: Received incomplete data: 0 bytes, expected 42 bytes\n",
      "Error reading sensor data: Received incomplete data: 0 bytes, expected 42 bytes\n",
      "Error reading sensor data: Received incomplete data: 0 bytes, expected 42 bytes\n",
      "Error reading sensor data: Received incomplete data: 0 bytes, expected 42 bytes\n",
      "Error reading sensor data: Received incomplete data: 0 bytes, expected 42 bytes\n",
      "Error reading sensor data: Received incomplete data: 0 bytes, expected 42 bytes\n",
      "Error reading sensor data: Received incomplete data: 0 bytes, expected 42 bytes\n",
      "Error reading sensor data: Received incomplete data: 0 bytes, expected 42 bytes\n",
      "Error reading sensor data: Received incomplete data: 0 bytes, expected 42 bytes\n",
      "Error reading sensor data: Received incomplete data: 0 bytes, expected 42 bytes\n",
      "Error reading sensor data: Received incomplete data: 0 bytes, expected 42 bytes\n",
      "Error reading sensor data: Received incomplete data: 0 bytes, expected 42 bytes\n",
      "Error reading sensor data: Received incomplete data: 0 bytes, expected 42 bytes\n",
      "Error reading sensor data: Received incomplete data: 0 bytes, expected 42 bytes\n",
      "Error reading sensor data: Received incomplete data: 0 bytes, expected 42 bytes\n",
      "Error reading sensor data: Received incomplete data: 0 bytes, expected 42 bytes\n",
      "Error reading sensor data: Received incomplete data: 0 bytes, expected 42 bytes\n",
      "Error reading sensor data: Received incomplete data: 0 bytes, expected 42 bytes\n",
      "Error reading sensor data: Received incomplete data: 0 bytes, expected 42 bytes\n",
      "Error reading sensor data: Received incomplete data: 0 bytes, expected 42 bytes\n",
      "Error reading sensor data: Received incomplete data: 0 bytes, expected 42 bytes\n",
      "Error reading sensor data: Received incomplete data: 0 bytes, expected 42 bytes\n"
     ]
    },
    {
     "data": {
      "application/vnd.jupyter.widget-view+json": {
       "model_id": "cd1a42d035b64033800f02289af5deef",
       "version_major": 2,
       "version_minor": 0
      },
      "text/plain": [
       "  0%|          | 0/20000 [00:00<?, ?it/s]"
      ]
     },
     "metadata": {},
     "output_type": "display_data"
    },
    {
     "name": "stdout",
     "output_type": "stream",
     "text": [
      "Error reading sensor data: Received incomplete data: 0 bytes, expected 42 bytes\n",
      "Error reading sensor data: Received incomplete data: 0 bytes, expected 42 bytes\n",
      "Error reading sensor data: Received incomplete data: 0 bytes, expected 42 bytes\n",
      "Error reading sensor data: Received incomplete data: 0 bytes, expected 42 bytes\n",
      "Error reading sensor data: Received incomplete data: 0 bytes, expected 42 bytes\n"
     ]
    },
    {
     "data": {
      "application/vnd.jupyter.widget-view+json": {
       "model_id": "2303e646903e49d7ba2c14fb3b6cc819",
       "version_major": 2,
       "version_minor": 0
      },
      "text/plain": [
       "  0%|          | 0/20000 [00:00<?, ?it/s]"
      ]
     },
     "metadata": {},
     "output_type": "display_data"
    },
    {
     "name": "stdout",
     "output_type": "stream",
     "text": [
      "Error reading sensor data: Received incomplete data: 0 bytes, expected 42 bytes\n",
      "Error reading sensor data: Received incomplete data: 0 bytes, expected 42 bytes\n"
     ]
    },
    {
     "data": {
      "application/vnd.jupyter.widget-view+json": {
       "model_id": "989b5e7635ac479488e9f1fc197041ad",
       "version_major": 2,
       "version_minor": 0
      },
      "text/plain": [
       "  0%|          | 0/20000 [00:00<?, ?it/s]"
      ]
     },
     "metadata": {},
     "output_type": "display_data"
    },
    {
     "name": "stdout",
     "output_type": "stream",
     "text": [
      "Error reading sensor data: Received incomplete data: 0 bytes, expected 42 bytes\n",
      "Error reading sensor data: Received incomplete data: 0 bytes, expected 42 bytes\n"
     ]
    },
    {
     "data": {
      "application/vnd.jupyter.widget-view+json": {
       "model_id": "d70d4c6094554cf5a09e590ae7a6c44b",
       "version_major": 2,
       "version_minor": 0
      },
      "text/plain": [
       "  0%|          | 0/20000 [00:00<?, ?it/s]"
      ]
     },
     "metadata": {},
     "output_type": "display_data"
    },
    {
     "name": "stdout",
     "output_type": "stream",
     "text": [
      "Error reading sensor data: Received incomplete data: 0 bytes, expected 42 bytes\n",
      "Error reading sensor data: Received incomplete data: 0 bytes, expected 42 bytes\n",
      "Error reading sensor data: Received incomplete data: 0 bytes, expected 42 bytes\n"
     ]
    },
    {
     "data": {
      "application/vnd.jupyter.widget-view+json": {
       "model_id": "2a876c168bde40fe96188a169d0b9cf7",
       "version_major": 2,
       "version_minor": 0
      },
      "text/plain": [
       "  0%|          | 0/20000 [00:00<?, ?it/s]"
      ]
     },
     "metadata": {},
     "output_type": "display_data"
    },
    {
     "name": "stdout",
     "output_type": "stream",
     "text": [
      "Error reading sensor data: Received incomplete data: 0 bytes, expected 42 bytes\n",
      "Error reading sensor data: Received incomplete data: 0 bytes, expected 42 bytes\n"
     ]
    },
    {
     "data": {
      "application/vnd.jupyter.widget-view+json": {
       "model_id": "dd2c2737d3334acbac93f373cb066e06",
       "version_major": 2,
       "version_minor": 0
      },
      "text/plain": [
       "  0%|          | 0/20000 [00:00<?, ?it/s]"
      ]
     },
     "metadata": {},
     "output_type": "display_data"
    },
    {
     "name": "stdout",
     "output_type": "stream",
     "text": [
      "Error reading sensor data: Received incomplete data: 0 bytes, expected 42 bytes\n",
      "Error reading sensor data: Received incomplete data: 0 bytes, expected 42 bytes\n"
     ]
    },
    {
     "data": {
      "application/vnd.jupyter.widget-view+json": {
       "model_id": "0d22c4dc4e02476097ead7d5bcddac32",
       "version_major": 2,
       "version_minor": 0
      },
      "text/plain": [
       "  0%|          | 0/20000 [00:00<?, ?it/s]"
      ]
     },
     "metadata": {},
     "output_type": "display_data"
    },
    {
     "name": "stdout",
     "output_type": "stream",
     "text": [
      "Error reading sensor data: Received incomplete data: 0 bytes, expected 42 bytes\n"
     ]
    },
    {
     "data": {
      "application/vnd.jupyter.widget-view+json": {
       "model_id": "5892501e7b1b4ea8a2afe974b36a5b45",
       "version_major": 2,
       "version_minor": 0
      },
      "text/plain": [
       "  0%|          | 0/20000 [00:00<?, ?it/s]"
      ]
     },
     "metadata": {},
     "output_type": "display_data"
    },
    {
     "name": "stdout",
     "output_type": "stream",
     "text": [
      "Error reading sensor data: Received incomplete data: 0 bytes, expected 42 bytes\n"
     ]
    },
    {
     "data": {
      "application/vnd.jupyter.widget-view+json": {
       "model_id": "f0f5e67c708543fb9249bfff5c6f479b",
       "version_major": 2,
       "version_minor": 0
      },
      "text/plain": [
       "  0%|          | 0/20000 [00:00<?, ?it/s]"
      ]
     },
     "metadata": {},
     "output_type": "display_data"
    },
    {
     "name": "stdout",
     "output_type": "stream",
     "text": [
      "Error reading sensor data: Received incomplete data: 0 bytes, expected 42 bytes\n",
      "Error reading sensor data: Received incomplete data: 0 bytes, expected 42 bytes\n"
     ]
    },
    {
     "data": {
      "application/vnd.jupyter.widget-view+json": {
       "model_id": "ee113f6c2963466193dd519760066942",
       "version_major": 2,
       "version_minor": 0
      },
      "text/plain": [
       "  0%|          | 0/20000 [00:00<?, ?it/s]"
      ]
     },
     "metadata": {},
     "output_type": "display_data"
    },
    {
     "name": "stdout",
     "output_type": "stream",
     "text": [
      "Error reading sensor data: Received incomplete data: 0 bytes, expected 42 bytes\n",
      "Error reading sensor data: Received incomplete data: 0 bytes, expected 42 bytes\n",
      "Error reading sensor data: Received incomplete data: 0 bytes, expected 42 bytes\n",
      "Error reading sensor data: Received incomplete data: 0 bytes, expected 42 bytes\n",
      "Error reading sensor data: Received incomplete data: 0 bytes, expected 42 bytes\n"
     ]
    },
    {
     "data": {
      "application/vnd.jupyter.widget-view+json": {
       "model_id": "e372a86ceae74de290d96848acc7fca0",
       "version_major": 2,
       "version_minor": 0
      },
      "text/plain": [
       "  0%|          | 0/20000 [00:00<?, ?it/s]"
      ]
     },
     "metadata": {},
     "output_type": "display_data"
    },
    {
     "name": "stdout",
     "output_type": "stream",
     "text": [
      "Error reading sensor data: Received incomplete data: 0 bytes, expected 42 bytes\n"
     ]
    },
    {
     "data": {
      "application/vnd.jupyter.widget-view+json": {
       "model_id": "311502721d3f497fb76c6a1e8977d8e1",
       "version_major": 2,
       "version_minor": 0
      },
      "text/plain": [
       "  0%|          | 0/20000 [00:00<?, ?it/s]"
      ]
     },
     "metadata": {},
     "output_type": "display_data"
    },
    {
     "name": "stdout",
     "output_type": "stream",
     "text": [
      "Error reading sensor data: Received incomplete data: 0 bytes, expected 42 bytes\n",
      "Error reading sensor data: Received incomplete data: 0 bytes, expected 42 bytes\n",
      "Error reading sensor data: Received incomplete data: 0 bytes, expected 42 bytes\n",
      "Error reading sensor data: Received incomplete data: 0 bytes, expected 42 bytes\n"
     ]
    },
    {
     "data": {
      "application/vnd.jupyter.widget-view+json": {
       "model_id": "db8ebcbbc7594c46951bf4d5ad850bf3",
       "version_major": 2,
       "version_minor": 0
      },
      "text/plain": [
       "  0%|          | 0/20000 [00:00<?, ?it/s]"
      ]
     },
     "metadata": {},
     "output_type": "display_data"
    },
    {
     "name": "stdout",
     "output_type": "stream",
     "text": [
      "Error reading sensor data: Received incomplete data: 0 bytes, expected 42 bytes\n",
      "Error reading sensor data: Received incomplete data: 0 bytes, expected 42 bytes\n",
      "Error reading sensor data: Received incomplete data: 0 bytes, expected 42 bytes\n",
      "Error reading sensor data: Received incomplete data: 0 bytes, expected 42 bytes\n",
      "Error reading sensor data: Received incomplete data: 0 bytes, expected 42 bytes\n"
     ]
    },
    {
     "data": {
      "application/vnd.jupyter.widget-view+json": {
       "model_id": "de3ac90de53840e480b2cadb46c04b22",
       "version_major": 2,
       "version_minor": 0
      },
      "text/plain": [
       "  0%|          | 0/20000 [00:00<?, ?it/s]"
      ]
     },
     "metadata": {},
     "output_type": "display_data"
    },
    {
     "name": "stdout",
     "output_type": "stream",
     "text": [
      "Error reading sensor data: Received incomplete data: 0 bytes, expected 42 bytes\n",
      "Error reading sensor data: Received incomplete data: 0 bytes, expected 42 bytes\n",
      "Error reading sensor data: Received incomplete data: 0 bytes, expected 42 bytes\n",
      "Error reading sensor data: Received incomplete data: 0 bytes, expected 42 bytes\n"
     ]
    },
    {
     "ename": "KeyboardInterrupt",
     "evalue": "",
     "output_type": "error",
     "traceback": [
      "\u001b[0;31m---------------------------------------------------------------------------\u001b[0m",
      "\u001b[0;31mKeyboardInterrupt\u001b[0m                         Traceback (most recent call last)",
      "Cell \u001b[0;32mIn[6], line 16\u001b[0m\n\u001b[1;32m     14\u001b[0m \u001b[38;5;66;03m# If dataset collection is not active (flag is 0), operate the robot normally.\u001b[39;00m\n\u001b[1;32m     15\u001b[0m \u001b[38;5;28;01mif\u001b[39;00m \u001b[38;5;129;01mnot\u001b[39;00m start_dataset_collection:\n\u001b[0;32m---> 16\u001b[0m     \u001b[43mprovide_teleoperation\u001b[49m\u001b[43m(\u001b[49m\n\u001b[1;32m     17\u001b[0m \u001b[43m        \u001b[49m\u001b[43mleft_arm\u001b[49m\u001b[43m,\u001b[49m\n\u001b[1;32m     18\u001b[0m \u001b[43m        \u001b[49m\u001b[43mright_arm\u001b[49m\u001b[43m,\u001b[49m\n\u001b[1;32m     19\u001b[0m \u001b[43m        \u001b[49m\u001b[43mleft_base_pose\u001b[49m\u001b[43m,\u001b[49m\n\u001b[1;32m     20\u001b[0m \u001b[43m        \u001b[49m\u001b[43mright_base_pose\u001b[49m\u001b[43m,\u001b[49m\n\u001b[1;32m     21\u001b[0m \u001b[43m        \u001b[49m\u001b[43mdata_from_echo\u001b[49m\u001b[43m,\u001b[49m\n\u001b[1;32m     22\u001b[0m \u001b[43m    \u001b[49m\u001b[43m)\u001b[49m\n\u001b[1;32m     23\u001b[0m \u001b[38;5;28;01melse\u001b[39;00m:\n\u001b[1;32m     24\u001b[0m \n\u001b[1;32m     25\u001b[0m     \u001b[38;5;66;03m# Inner loop: continue dataset collection until the flag turns false.\u001b[39;00m\n\u001b[1;32m     26\u001b[0m     \u001b[38;5;28;01mfor\u001b[39;00m j \u001b[38;5;129;01min\u001b[39;00m tqdm(\u001b[38;5;28mrange\u001b[39m(\u001b[38;5;241m20000\u001b[39m)):\n",
      "Cell \u001b[0;32mIn[5], line 62\u001b[0m, in \u001b[0;36mprovide_teleoperation\u001b[0;34m(left_arm, right_arm, left_base_pose, right_base_pose, data_from_echo, data_collector, main_camera, wrist_camera)\u001b[0m\n\u001b[1;32m     60\u001b[0m \u001b[38;5;66;03m# Command the right arm to move to the new pose with the updated gripper position.\u001b[39;00m\n\u001b[1;32m     61\u001b[0m \u001b[38;5;28;01mif\u001b[39;00m right_arm \u001b[38;5;129;01mis\u001b[39;00m \u001b[38;5;129;01mnot\u001b[39;00m \u001b[38;5;28;01mNone\u001b[39;00m:\n\u001b[0;32m---> 62\u001b[0m     \u001b[43mright_arm\u001b[49m\u001b[38;5;241;43m.\u001b[39;49m\u001b[43mmove_to_pose\u001b[49m\u001b[43m(\u001b[49m\n\u001b[1;32m     63\u001b[0m \u001b[43m        \u001b[49m\u001b[43mjoints_positions\u001b[49m\u001b[38;5;241;43m=\u001b[39;49m\u001b[43mright_arm_new_position\u001b[49m\u001b[43m,\u001b[49m\n\u001b[1;32m     64\u001b[0m \u001b[43m        \u001b[49m\u001b[43mgripper_position\u001b[49m\u001b[38;5;241;43m=\u001b[39;49m\u001b[43mright_gripper_position\u001b[49m\u001b[43m,\u001b[49m\n\u001b[1;32m     65\u001b[0m \u001b[43m    \u001b[49m\u001b[43m)\u001b[49m\n\u001b[1;32m     67\u001b[0m \u001b[38;5;66;03m# If dataset collection is enabled, add a new sample to the dataset.\u001b[39;00m\n\u001b[1;32m     68\u001b[0m \u001b[38;5;28;01mif\u001b[39;00m data_collector \u001b[38;5;129;01mis\u001b[39;00m \u001b[38;5;129;01mnot\u001b[39;00m \u001b[38;5;28;01mNone\u001b[39;00m:\n",
      "File \u001b[0;32m~/Echo/Echo/ur_rtde.py:100\u001b[0m, in \u001b[0;36mUR3Teleop.move_to_pose\u001b[0;34m(self, joints_positions, gripper_position)\u001b[0m\n\u001b[1;32m     91\u001b[0m t_start \u001b[38;5;241m=\u001b[39m \u001b[38;5;28mself\u001b[39m\u001b[38;5;241m.\u001b[39mrtde_c\u001b[38;5;241m.\u001b[39minitPeriod()\n\u001b[1;32m     92\u001b[0m \u001b[38;5;28mself\u001b[39m\u001b[38;5;241m.\u001b[39mrtde_c\u001b[38;5;241m.\u001b[39mservoJ(\n\u001b[1;32m     93\u001b[0m     joints_positions,\n\u001b[1;32m     94\u001b[0m     \u001b[38;5;28mself\u001b[39m\u001b[38;5;241m.\u001b[39mvelocity,\n\u001b[0;32m   (...)\u001b[0m\n\u001b[1;32m     98\u001b[0m     \u001b[38;5;28mself\u001b[39m\u001b[38;5;241m.\u001b[39mgain,\n\u001b[1;32m     99\u001b[0m )\n\u001b[0;32m--> 100\u001b[0m \u001b[38;5;28;43mself\u001b[39;49m\u001b[38;5;241;43m.\u001b[39;49m\u001b[43mrtde_c\u001b[49m\u001b[38;5;241;43m.\u001b[39;49m\u001b[43mwaitPeriod\u001b[49m\u001b[43m(\u001b[49m\u001b[43mt_start\u001b[49m\u001b[43m)\u001b[49m\n\u001b[1;32m    102\u001b[0m \u001b[38;5;66;03m# If a gripper is present and a target position is provided, move the gripper\u001b[39;00m\n\u001b[1;32m    103\u001b[0m \u001b[38;5;28;01mif\u001b[39;00m \u001b[38;5;28mself\u001b[39m\u001b[38;5;241m.\u001b[39muse_gripper \u001b[38;5;129;01mand\u001b[39;00m gripper_position \u001b[38;5;129;01mis\u001b[39;00m \u001b[38;5;129;01mnot\u001b[39;00m \u001b[38;5;28;01mNone\u001b[39;00m:\n",
      "\u001b[0;31mKeyboardInterrupt\u001b[0m: "
     ]
    }
   ],
   "source": [
    "# Main loop for teleoperation and dataset collection.\n",
    "data_collector.set_task(task = \"Take a core sample out of the box and put it on the sticker\")\n",
    "# \"Pick up a blue box\", \"Pick up a black cylinder\", \"Pick up a banana\", \"Pick up a cotton pad packaging\", \"Pick up an orange shampoo bottle\"\n",
    "\n",
    "# The loop continuously reads data from the device and processes it.\n",
    "for i in tqdm(range(100000)):\n",
    "    data_from_echo = device.read_pose_rad(dof_count=7, read_force_sensor=True)\n",
    "    if data_from_echo is None:\n",
    "        continue\n",
    "\n",
    "    # Get the flag that determines whether to start dataset collection.\n",
    "    start_dataset_collection = data_from_echo[5]\n",
    "\n",
    "    # If dataset collection is not active (flag is 0), operate the robot normally.\n",
    "    if not start_dataset_collection:\n",
    "        provide_teleoperation(\n",
    "            left_arm,\n",
    "            right_arm,\n",
    "            left_base_pose,\n",
    "            right_base_pose,\n",
    "            data_from_echo,\n",
    "        )\n",
    "    else:\n",
    "\n",
    "        # Inner loop: continue dataset collection until the flag turns false.\n",
    "        for j in tqdm(range(20000)):\n",
    "            data_from_echo = device.read_pose_rad(dof_count=7, read_force_sensor=True)\n",
    "            if data_from_echo is None:\n",
    "                continue\n",
    "\n",
    "            # Update the flag based on the current data.\n",
    "            start_dataset_collection = data_from_echo[5]\n",
    "            if j%5==0:\n",
    "                provide_teleoperation(\n",
    "                    left_arm,\n",
    "                    right_arm,\n",
    "                    left_base_pose,\n",
    "                    right_base_pose,\n",
    "                    data_from_echo,\n",
    "                    data_collector,\n",
    "                    main_camera,\n",
    "                    wrist_camera\n",
    "                )\n",
    "            else:\n",
    "                provide_teleoperation(\n",
    "                    left_arm,\n",
    "                    right_arm,\n",
    "                    left_base_pose,\n",
    "                    right_base_pose,\n",
    "                    data_from_echo,\n",
    "                )\n",
    "                \n",
    "            # Continue dataset collection as long as the flag is true.\n",
    "            if start_dataset_collection:\n",
    "                continue\n",
    "            else:\n",
    "                # Break out of the inner loop when dataset collection is disabled.\n",
    "                data_collector.save_episode()\n",
    "                break"
   ]
  }
 ],
 "metadata": {
  "kernelspec": {
   "display_name": "echo",
   "language": "python",
   "name": "python3"
  },
  "language_info": {
   "codemirror_mode": {
    "name": "ipython",
    "version": 3
   },
   "file_extension": ".py",
   "mimetype": "text/x-python",
   "name": "python",
   "nbconvert_exporter": "python",
   "pygments_lexer": "ipython3",
   "version": "3.10.16"
  }
 },
 "nbformat": 4,
 "nbformat_minor": 2
}
